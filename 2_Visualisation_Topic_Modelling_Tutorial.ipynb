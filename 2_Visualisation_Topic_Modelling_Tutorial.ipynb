{
 "cells": [
  {
   "cell_type": "code",
   "execution_count": 1,
   "metadata": {},
   "outputs": [],
   "source": [
    "#This part of the 5 parts tutorial shows you how to topic modelling! \n",
    "#Our data-set is a list of talks and abstracts from the CCC conference https://gitlab.com/maxigas/cccongresstalks/\n",
    "#The data is available as .csv file format, we'll play with the data to show what topics are being focused on \n",
    "#    using Latent Dirichlet Allocation (LDA).\n",
    "\n",
    "#this is to avoid showing warning, comment out otherwise.\n",
    "import warnings\n",
    "warnings.filterwarnings(\"ignore\")\n",
    "\n",
    "import numpy as np # linear algebra\n",
    "import pandas as pd # data processing, CSV file I/O (e.g. pd.read_csv)\n",
    "\n",
    "import os\n",
    "import matplotlib.pyplot as plt\n",
    "import seaborn as sns\n",
    "import mglearn\n",
    "from sklearn.feature_extraction.text import CountVectorizer"
   ]
  },
  {
   "cell_type": "code",
   "execution_count": 2,
   "metadata": {},
   "outputs": [
    {
     "name": "stdout",
     "output_type": "stream",
     "text": [
      "Number of titles: 149\n",
      "\n"
     ]
    },
    {
     "data": {
      "text/html": [
       "<div>\n",
       "<style scoped>\n",
       "    .dataframe tbody tr th:only-of-type {\n",
       "        vertical-align: middle;\n",
       "    }\n",
       "\n",
       "    .dataframe tbody tr th {\n",
       "        vertical-align: top;\n",
       "    }\n",
       "\n",
       "    .dataframe thead th {\n",
       "        text-align: right;\n",
       "    }\n",
       "</style>\n",
       "<table border=\"1\" class=\"dataframe\">\n",
       "  <thead>\n",
       "    <tr style=\"text-align: right;\">\n",
       "      <th></th>\n",
       "      <th>year</th>\n",
       "      <th>congress</th>\n",
       "      <th>title</th>\n",
       "      <th>abstract</th>\n",
       "      <th>link</th>\n",
       "      <th>tags</th>\n",
       "    </tr>\n",
       "  </thead>\n",
       "  <tbody>\n",
       "    <tr>\n",
       "      <th>27</th>\n",
       "      <td>2016</td>\n",
       "      <td>33C3</td>\n",
       "      <td>Space making/space shaping: Wider die automati...</td>\n",
       "      <td>What are the politics and aesthetics of mappin...</td>\n",
       "      <td>https://events.ccc.de/congress/2016/Fahrplan/s...</td>\n",
       "      <td>NaN</td>\n",
       "    </tr>\n",
       "    <tr>\n",
       "      <th>138</th>\n",
       "      <td>2016</td>\n",
       "      <td>33C3</td>\n",
       "      <td>Mass Surveillance through Computational Lingui...</td>\n",
       "      <td>Even though the Snowden revelations for the fi...</td>\n",
       "      <td>https://events.ccc.de/congress/2016/Fahrplan/s...</td>\n",
       "      <td>NaN</td>\n",
       "    </tr>\n",
       "    <tr>\n",
       "      <th>11</th>\n",
       "      <td>2016</td>\n",
       "      <td>33C3</td>\n",
       "      <td>Console hackz 2016: Ein Geheimdienst als Zeuge...</td>\n",
       "      <td>Last year, we demonstrated Linux running on th...</td>\n",
       "      <td>https://events.ccc.de/congress/2016/Fahrplan/s...</td>\n",
       "      <td>NaN</td>\n",
       "    </tr>\n",
       "    <tr>\n",
       "      <th>29</th>\n",
       "      <td>2016</td>\n",
       "      <td>33C3</td>\n",
       "      <td>Routerzwang und Funkabschottung: A proposal fo...</td>\n",
       "      <td>Nach drei Jahren wurde endlich die nutzerunfre...</td>\n",
       "      <td>https://events.ccc.de/congress/2016/Fahrplan/s...</td>\n",
       "      <td>NaN</td>\n",
       "    </tr>\n",
       "    <tr>\n",
       "      <th>25</th>\n",
       "      <td>2016</td>\n",
       "      <td>33C3</td>\n",
       "      <td>Building a high throughput low-latency PCIe ba...</td>\n",
       "      <td>Software Defined Radios (SDRs) became a mainst...</td>\n",
       "      <td>https://events.ccc.de/congress/2016/Fahrplan/s...</td>\n",
       "      <td>NaN</td>\n",
       "    </tr>\n",
       "  </tbody>\n",
       "</table>\n",
       "</div>"
      ],
      "text/plain": [
       "     year congress                                              title  \\\n",
       "27   2016     33C3  Space making/space shaping: Wider die automati...   \n",
       "138  2016     33C3  Mass Surveillance through Computational Lingui...   \n",
       "11   2016     33C3  Console hackz 2016: Ein Geheimdienst als Zeuge...   \n",
       "29   2016     33C3  Routerzwang und Funkabschottung: A proposal fo...   \n",
       "25   2016     33C3  Building a high throughput low-latency PCIe ba...   \n",
       "\n",
       "                                              abstract  \\\n",
       "27   What are the politics and aesthetics of mappin...   \n",
       "138  Even though the Snowden revelations for the fi...   \n",
       "11   Last year, we demonstrated Linux running on th...   \n",
       "29   Nach drei Jahren wurde endlich die nutzerunfre...   \n",
       "25   Software Defined Radios (SDRs) became a mainst...   \n",
       "\n",
       "                                                  link  tags  \n",
       "27   https://events.ccc.de/congress/2016/Fahrplan/s...   NaN  \n",
       "138  https://events.ccc.de/congress/2016/Fahrplan/s...   NaN  \n",
       "11   https://events.ccc.de/congress/2016/Fahrplan/s...   NaN  \n",
       "29   https://events.ccc.de/congress/2016/Fahrplan/s...   NaN  \n",
       "25   https://events.ccc.de/congress/2016/Fahrplan/s...   NaN  "
      ]
     },
     "execution_count": 2,
     "metadata": {},
     "output_type": "execute_result"
    }
   ],
   "source": [
    "#Reading the 2016.csv CCC talks, which is stored as a CSV file in the csvs directory.\n",
    "#notice the delimiter is not a comma, check your files first.\n",
    "File2016_df = pd.read_csv(\"csvs/2016.csv\", delimiter='|', header=0)\n",
    "print('Number of titles: {:,}\\n'.format(File2016_df.shape[0]))\n",
    "#print a sample of 5 rows.\n",
    "File2016_df.sample(5)"
   ]
  },
  {
   "cell_type": "code",
   "execution_count": 3,
   "metadata": {},
   "outputs": [],
   "source": [
    "#reading titles (title is a column in the csv file as shown in the sample above)\n",
    "\n",
    "#loop through the titles and store them in a dictionary.\n",
    "title_dict = {}\n",
    "\n",
    "# loop through titles\n",
    "for i in range(len(File2016_df)):\n",
    "    if File2016_df[\"title\"][i] in title_dict.keys():\n",
    "        title_dict[File2016_df[\"title\"][i]] += 1\n",
    "    else:\n",
    "        title_dict.setdefault(File2016_df[\"title\"][i], 1)"
   ]
  },
  {
   "cell_type": "code",
   "execution_count": 4,
   "metadata": {},
   "outputs": [],
   "source": [
    "#we do the same thing for the abstract column\n",
    "\n",
    "abstract_dict = {}\n",
    "\n",
    "# classify that the article has recommends\n",
    "for i in range(len(File2016_df)):\n",
    "    if File2016_df[\"abstract\"][i] in abstract_dict.keys():\n",
    "        abstract_dict[File2016_df[\"abstract\"][i]] += 1\n",
    "    else:\n",
    "        abstract_dict.setdefault(File2016_df[\"abstract\"][i], 1)\n",
    "\n",
    "abstract_dict = [x for x in abstract_dict if str(x) != 'nan']#some talks have no abstracts"
   ]
  },
  {
   "cell_type": "code",
   "execution_count": 5,
   "metadata": {},
   "outputs": [],
   "source": [
    "#spacy tokenizer\n",
    "#a spacy method to extract clean tokens from text\n",
    "import spacy\n",
    "spacy.load('en')\n",
    "from spacy.lang.en import English\n",
    "parser = English()\n",
    "def tokenize(text):\n",
    "    all_tokens = []\n",
    "    tokens = parser(text)\n",
    "    for token in tokens:\n",
    "        if token.orth_.isspace():\n",
    "            continue\n",
    "        elif token.like_url:\n",
    "            all_tokens.append('URL')\n",
    "        elif token.orth_.startswith('@'):\n",
    "            all_tokens.append('SCREEN_NAME')\n",
    "        else:\n",
    "            all_tokens.append(token.lower_)\n",
    "    return all_tokens"
   ]
  },
  {
   "cell_type": "code",
   "execution_count": 6,
   "metadata": {},
   "outputs": [
    {
     "name": "stderr",
     "output_type": "stream",
     "text": [
      "[nltk_data] Downloading package wordnet to\n",
      "[nltk_data]     C:\\Users\\elhaj\\AppData\\Roaming\\nltk_data...\n",
      "[nltk_data]   Package wordnet is already up-to-date!\n",
      "[nltk_data] Downloading package stopwords to\n",
      "[nltk_data]     C:\\Users\\elhaj\\AppData\\Roaming\\nltk_data...\n",
      "[nltk_data]   Package stopwords is already up-to-date!\n"
     ]
    }
   ],
   "source": [
    "#NLTK’s Wordnet used to find the meanings of words, synonyms, antonyms, and more. \n",
    "#I import English and German stop words lists since the talks contain German text, especially in the old days.\n",
    "\n",
    "import nltk\n",
    "nltk.download('wordnet')\n",
    "from nltk.corpus import wordnet as wn\n",
    "def get_lemma(word):\n",
    "    lemma = wn.morphy(word)\n",
    "    if lemma is None:\n",
    "        return word\n",
    "    else:\n",
    "        return lemma\n",
    "    \n",
    "nltk.download('stopwords')\n",
    "en_stop = set(nltk.corpus.stopwords.words('english'))\n",
    "de_stop = set(nltk.corpus.stopwords.words('german'))\n",
    "\n",
    "#preprocess text by removing stop words and keeping words with more than 4 letters (my choice you can change it)\n",
    "def preprocess_text(text):\n",
    "    tokens = tokenize(text)\n",
    "    tokens = [token for token in tokens if len(token) > 4]\n",
    "    tokens = [token for token in tokens if token not in en_stop or token in de_stop]\n",
    "    tokens = [get_lemma(token) for token in tokens]\n",
    "    return tokens"
   ]
  },
  {
   "cell_type": "code",
   "execution_count": 7,
   "metadata": {},
   "outputs": [
    {
     "name": "stdout",
     "output_type": "stream",
     "text": [
      "<class 'list'>\n",
      "['opening', 'ceremony', 'infrastructure', 'people', 'behind', 'drone', 'killing']\n",
      "['global', 'assassination', 'crypto', 'fight', 'apple']\n",
      "['fight', 'encryption']\n",
      "['bootstrap', 'slightly', 'security', 'laptop', 'local', 'computer', 'outside', 'jurisdiction']\n",
      "['enforcement', 'planet', 'security']\n",
      "['money', 'technical', 'teardown', 'pegasus', 'malware', 'trident', 'security', 'chain']\n",
      "['pegasus', 'internals', 'automation', 'dependency', 'aviation', 'accident']\n",
      "['stink']\n",
      "['dieselgate', 'later', 'review', 'dieselgate']\n",
      "['software', 'define', 'emission', 'add', 'device', 'sometimes', 'smart']\n"
     ]
    }
   ],
   "source": [
    "#I convert the dictionary into a list with clean pre-processed text\n",
    "title_text_data = []\n",
    "print(type(title_text_data))\n",
    "counter = 0\n",
    "for title in title_dict:\n",
    "    counter = counter + 1\n",
    "    title_tokens = preprocess_text(title.replace('attackz', 'attacks').replace('hackz', 'hack').replace('securityz', 'security'))#I do some replacing for German-style words!\n",
    "    if (counter < 11):#this is just to print the first 10 lines\n",
    "        print(title_tokens)\n",
    "    title_text_data.append(title_tokens)"
   ]
  },
  {
   "cell_type": "code",
   "execution_count": 8,
   "metadata": {},
   "outputs": [
    {
     "name": "stdout",
     "output_type": "stream",
     "text": [
      "['force', 'comms', 'bomb', 'technician', 'insight', 'invisible', 'network', 'governing', 'military', 'drone', 'quest', 'accountability']\n",
      "['strong', 'communications', 'encryption', 'device', 'encryption', 'legal', 'jurisdiction', 'today', 'remain', 'widely', 'available', 'software', 'programers', 'hardware', 'producer', 'increasingly', 'pressure', 'enforcement', 'policy', 'maker', 'around', 'world', 'include', 'call', 'backdoor', 'encryption', 'product', 'lecture', 'provide', 'state', 'move', 'detailing', 'happen', 'fight', 'apple', 'bernardino', 'current', 'proposal', 'weaken', 'encryption', 'covering', 'propose', 'recently', 'enact', 'discus', 'extra', 'legal', 'pressure', 'place', 'company', 'government', 'state', 'sponsor', 'malware', 'alternative', 'addition', 'weakening', 'software', 'finally', 'presentation', 'discus', 'possible', 'realistic', 'outcome', 'prediction', 'state', 'discus', 'fight', 'future', 'allow', 'security', 'communications', 'everyone']\n",
      "['head', 'source', 'custom', 'firmware', 'configuration', 'laptop', 'server', 'provide', 'slightly', 'better', 'physical', 'security', 'protection', 'system', 'unlike', 'tails', 'stateless', 'leaf', 'trace', 'computer', 'presence', 'head', 'intend', 'store', 'state', 'computer', 'target', 'specific', 'model', 'commodity', 'hardware', 'take', 'advantage', 'lesson', 'learn', 'several', 'years', 'vulnerability', 'research', 'provide', 'level', 'overview', 'head', 'installing', 'thinkpad', 'attack', 'protect']\n",
      "['early', 'federal', 'bureau', 'investigation', 'hack', 'computer', 'austria', 'denmark', 'chile', 'colombia', 'greece', 'likely', 'unite', 'kingdom', 'turkey', 'agency', 'browser', 'security', 'target', 'computer', 'spread', 'across', 'world', 'base', 'single', 'arguably', 'illegal', 'warrant', 'growing', 'trend', 'enforcement', 'agency', 'reaching', 'outside', 'country', 'criminal', 'suspect', 'abroad', 'bringing', 'urgent', 'question', 'legality', 'jurisdiction', 'proportionately', 'digital']\n",
      "['fintechs', 'increasingly', 'ground', 'establish', 'banks', 'mobile', 'first', 'strategy', 'sights', 'bringing', 'financial', 'task', 'check', 'account', 'balance', 'making', 'transactions', 'arranging', 'investment', 'ordering', 'overdraft', 'smartphone', 'business', 'entirely', 'commit', 'security', 'fintechs', 'design', 'outstanding', 'experience', 'priority', 'though', 'strategy', 'reward', 'rapidly', 'increase', 'customer', 'numbers', 'reveal', 'flaw', 'understanding', 'security', 'example', 'european', 'banking', 'startup', 'formerly', 'number26', 'succeed', 'independently', 'device', 'customer', 'manipulate', 'transactions', 'entirely', 'account', 'ultimately', 'issue', 'arbitrary', 'transactions', 'without', 'credit']\n",
      "['depth', 'technical', 'capability', 'security', 'pegasus', 'focus', 'pegasus', 'feature', 'security', 'chain', 'pegasus', 'call', 'trident', 'attendee', 'learn', 'pegasus', '0-days', 'obfuscation', 'encryption', 'function', 'hooking', 'ability', 'unnoticed', 'present', 'detail', 'technical', 'analysis', 'cover', 'payload', 'stage', 'pegasus', 'include', 'security', 'chain', 'various', '0-day', 'security', 'toolkit', 'using', 'jailbreak', 'device', 'attendee', 'learn', 'technical', 'details', 'pegasus', 'trident', 'security', 'found', 'patch']\n",
      "['legend', 'airline', 'pilot', 'utter', 'sentence', 'whenever', 'autopilot', 'relate', 'system', 'something', 'unexpected', 'explore', 'profile', 'accident', 'wrong', 'expectation', 'automation', 'behaviour', 'contribute', 'outcome']\n",
      "['overview', 'organizational', 'technical', 'aspect', 'dieselgate', 'break', 'public', 'three', 'month', 'learn', 'speak', 'hundred', 'people', 'daniel', 'give', 'update', 'know', 'still', 'reveal']\n",
      "['technical', 'reverse', 'engineer', 'electronic', 'control', 'unit', 'order', 'document', 'apparently', 'intentionally', 'undocumented', 'vendor', 'include', 'volkswagen', 'tweak', 'cycle', 'detection', 'already', 'investigate', 'different', 'volkswagen', 'approach', 'really', 'industry', 'course', 'trivia', 'acoustic', 'function']\n",
      "['smart', 'devices', 'using', 'mobile', 'phone', 'internet', 'become', 'popular', 'using', 'mechanical', 'electronic', 'hardware', 'attack', 'sniff', 'decompilation', 'devices', 'manufacturer', 'always', 'smart', 'aes128', 'layer', 'unbreakable', 'target', 'electronic', 'lock', 'method', 'show', 'apply', 'smart', 'devices']\n"
     ]
    }
   ],
   "source": [
    "#The same is done to the abstracts dictionary\n",
    "abstract_text_data = []\n",
    "counter2 = 0\n",
    "for abstract in abstract_dict:\n",
    "    counter2 = counter2 + 1\n",
    "    abstract_tokens = preprocess_text(abstract.replace('attackz', 'attacks').replace('hackz', 'hack').replace('securityz', 'security'))\n",
    "    if (counter2 < 11):\n",
    "        print(abstract_tokens)\n",
    "    abstract_text_data.append(abstract_tokens)"
   ]
  },
  {
   "cell_type": "code",
   "execution_count": 9,
   "metadata": {},
   "outputs": [],
   "source": [
    "#gensim for titles\n",
    "#what is a Gensim? The next important object you need to familiarize with in order to work in gensim is the Corpus (a Bag of Words). That is, it is a corpus object that contains the word id and its frequency in each document. You can think of it as gensim's equivalent of a Document-Term matrix\n",
    "#The main function is doc2bow , which converts a collection of words to its bag-of-words representation: a list of (word_id, word_frequency) 2-tuples\n",
    "from gensim import corpora\n",
    "title_dictionary = corpora.Dictionary(title_text_data)\n",
    "title_corpus = [title_dictionary.doc2bow(text) for text in title_text_data]\n",
    "\n",
    "import pickle\n",
    "#Pickle is needed to serialize gensim into a stream of bytes to be stored as a file.\n",
    "#gensim and pkl files are stored in the 'models' directory.\n",
    "pickle.dump(title_corpus, open('models/title_corpus.pkl', 'wb'))\n",
    "title_dictionary.save('models/title_dictionary.gensim')"
   ]
  },
  {
   "cell_type": "code",
   "execution_count": 10,
   "metadata": {},
   "outputs": [],
   "source": [
    "#gensim for abstracts\n",
    "from gensim import corpora\n",
    "abstract_dictionary = corpora.Dictionary(abstract_text_data)\n",
    "abstract_corpus = [abstract_dictionary.doc2bow(text) for text in abstract_text_data]\n",
    "\n",
    "import pickle\n",
    "pickle.dump(abstract_corpus, open('models/abstract_corpus.pkl', 'wb'))\n",
    "abstract_dictionary.save('models/abstract_dictionary.gensim')"
   ]
  },
  {
   "cell_type": "code",
   "execution_count": 11,
   "metadata": {},
   "outputs": [
    {
     "name": "stdout",
     "output_type": "stream",
     "text": [
      "(0, '0.009*\"knowledge\" + 0.009*\"network\" + 0.009*\"smart\" + 0.009*\"city\"')\n",
      "(1, '0.011*\"world\" + 0.011*\"security\" + 0.008*\"hardware\" + 0.008*\"ceremony\"')\n",
      "(2, '0.024*\"talks\" + 0.021*\"lightning\" + 0.008*\"attack\" + 0.008*\"internet\"')\n",
      "(3, '0.016*\"security\" + 0.016*\"space\" + 0.010*\"privacy\" + 0.007*\"technology\"')\n",
      "(4, '0.014*\"surveillance\" + 0.011*\"state\" + 0.011*\"security\" + 0.007*\"base\"')\n"
     ]
    }
   ],
   "source": [
    "#title LDA topics (I went with 5 topics and 10 passes, you can update that to show more topics or have several passes)\n",
    "# probability distribution\n",
    "# Discover abstract “topics” that occur in a collection of documents (why some parts of the data are similar)\n",
    "# What are the topics they are talking about in the conference talks\n",
    "import gensim\n",
    "NUM_TOPICS = 5\n",
    "ldamodel = gensim.models.ldamodel.LdaModel(title_corpus, num_topics = NUM_TOPICS, id2word=title_dictionary, passes=10)\n",
    "ldamodel.save('models/title_model.gensim')\n",
    "topics = ldamodel.print_topics(num_words=4)\n",
    "for topic in topics:\n",
    "    print(topic)"
   ]
  },
  {
   "cell_type": "code",
   "execution_count": 17,
   "metadata": {},
   "outputs": [
    {
     "name": "stdout",
     "output_type": "stream",
     "text": [
      "[(0, 0.040234867), (1, 0.040447272), (2, 0.040876847), (3, 0.49284607), (4, 0.38559493)]\n"
     ]
    }
   ],
   "source": [
    "#Try a new sentence on networking security, \n",
    "#LDA will show that topic 3 has the highest probability assigned, and topic 4 has the second highest probability assigned. \n",
    "#The printed probabilities should add up to 1.\n",
    "new_doc = 'Our new technique offers a full spectrum of data privacy and security services and technology'\n",
    "new_doc = preprocess_text(new_doc)\n",
    "new_doc_bow = title_dictionary.doc2bow(new_doc)\n",
    "print(ldamodel.get_document_topics(new_doc_bow))"
   ]
  },
  {
   "cell_type": "code",
   "execution_count": 18,
   "metadata": {},
   "outputs": [
    {
     "data": {
      "text/html": [
       "\n",
       "\n",
       "<link rel=\"stylesheet\" type=\"text/css\" href=\"https://cdn.rawgit.com/bmabey/pyLDAvis/files/ldavis.v1.0.0.css\">\n",
       "\n",
       "<div id=\"ldavis_el24063229565364998005828725142\"></div>\n",
       "<script type=\"text/javascript\">\n",
       "\n",
       "var ldavis_el24063229565364998005828725142_data = {\"mdsDat\": {\"Freq\": [15.335305213928223, 19.559192657470703, 19.73638153076172, 23.668128967285156, 21.700992584228516], \"cluster\": [1, 1, 1, 1, 1], \"topics\": [1, 2, 3, 4, 5], \"x\": [0.024438579655161514, 0.02267893966610709, -0.11549680083768162, 0.0919562931653054, -0.02357701164889249], \"y\": [0.023890777457684767, 0.1085486458342954, -0.04501953168829883, -0.0892066280117736, 0.001786736408092193]}, \"tinfo\": {\"Category\": [\"Default\", \"Default\", \"Default\", \"Default\", \"Default\", \"Default\", \"Default\", \"Default\", \"Default\", \"Default\", \"Default\", \"Default\", \"Default\", \"Default\", \"Default\", \"Default\", \"Default\", \"Default\", \"Default\", \"Default\", \"Default\", \"Default\", \"Default\", \"Default\", \"Default\", \"Default\", \"Default\", \"Default\", \"Default\", \"Default\", \"Topic1\", \"Topic1\", \"Topic1\", \"Topic1\", \"Topic1\", \"Topic1\", \"Topic1\", \"Topic1\", \"Topic1\", \"Topic1\", \"Topic1\", \"Topic1\", \"Topic1\", \"Topic1\", \"Topic1\", \"Topic1\", \"Topic1\", \"Topic1\", \"Topic1\", \"Topic1\", \"Topic1\", \"Topic1\", \"Topic1\", \"Topic1\", \"Topic1\", \"Topic1\", \"Topic1\", \"Topic1\", \"Topic1\", \"Topic1\", \"Topic1\", \"Topic1\", \"Topic1\", \"Topic1\", \"Topic1\", \"Topic1\", \"Topic1\", \"Topic1\", \"Topic1\", \"Topic1\", \"Topic1\", \"Topic1\", \"Topic1\", \"Topic1\", \"Topic1\", \"Topic1\", \"Topic1\", \"Topic2\", \"Topic2\", \"Topic2\", \"Topic2\", \"Topic2\", \"Topic2\", \"Topic2\", \"Topic2\", \"Topic2\", \"Topic2\", \"Topic2\", \"Topic2\", \"Topic2\", \"Topic2\", \"Topic2\", \"Topic2\", \"Topic2\", \"Topic2\", \"Topic2\", \"Topic2\", \"Topic2\", \"Topic2\", \"Topic2\", \"Topic2\", \"Topic2\", \"Topic2\", \"Topic2\", \"Topic2\", \"Topic2\", \"Topic2\", \"Topic2\", \"Topic2\", \"Topic2\", \"Topic2\", \"Topic2\", \"Topic2\", \"Topic2\", \"Topic2\", \"Topic2\", \"Topic2\", \"Topic2\", \"Topic2\", \"Topic2\", \"Topic2\", \"Topic2\", \"Topic3\", \"Topic3\", \"Topic3\", \"Topic3\", \"Topic3\", \"Topic3\", \"Topic3\", \"Topic3\", \"Topic3\", \"Topic3\", \"Topic3\", \"Topic3\", \"Topic3\", \"Topic3\", \"Topic3\", \"Topic3\", \"Topic3\", \"Topic3\", \"Topic3\", \"Topic3\", \"Topic3\", \"Topic3\", \"Topic3\", \"Topic3\", \"Topic3\", \"Topic3\", \"Topic3\", \"Topic3\", \"Topic3\", \"Topic3\", \"Topic3\", \"Topic3\", \"Topic3\", \"Topic3\", \"Topic3\", \"Topic3\", \"Topic3\", \"Topic3\", \"Topic3\", \"Topic3\", \"Topic3\", \"Topic3\", \"Topic3\", \"Topic3\", \"Topic3\", \"Topic3\", \"Topic3\", \"Topic4\", \"Topic4\", \"Topic4\", \"Topic4\", \"Topic4\", \"Topic4\", \"Topic4\", \"Topic4\", \"Topic4\", \"Topic4\", \"Topic4\", \"Topic4\", \"Topic4\", \"Topic4\", \"Topic4\", \"Topic4\", \"Topic4\", \"Topic4\", \"Topic4\", \"Topic4\", \"Topic4\", \"Topic4\", \"Topic4\", \"Topic4\", \"Topic4\", \"Topic4\", \"Topic4\", \"Topic4\", \"Topic4\", \"Topic4\", \"Topic4\", \"Topic4\", \"Topic4\", \"Topic4\", \"Topic4\", \"Topic4\", \"Topic4\", \"Topic4\", \"Topic4\", \"Topic4\", \"Topic4\", \"Topic4\", \"Topic4\", \"Topic4\", \"Topic4\", \"Topic4\", \"Topic4\", \"Topic4\", \"Topic4\", \"Topic4\", \"Topic4\", \"Topic4\", \"Topic4\", \"Topic4\", \"Topic5\", \"Topic5\", \"Topic5\", \"Topic5\", \"Topic5\", \"Topic5\", \"Topic5\", \"Topic5\", \"Topic5\", \"Topic5\", \"Topic5\", \"Topic5\", \"Topic5\", \"Topic5\", \"Topic5\", \"Topic5\", \"Topic5\", \"Topic5\", \"Topic5\", \"Topic5\", \"Topic5\", \"Topic5\", \"Topic5\", \"Topic5\", \"Topic5\", \"Topic5\", \"Topic5\", \"Topic5\", \"Topic5\", \"Topic5\", \"Topic5\", \"Topic5\", \"Topic5\", \"Topic5\", \"Topic5\", \"Topic5\", \"Topic5\", \"Topic5\", \"Topic5\", \"Topic5\", \"Topic5\", \"Topic5\", \"Topic5\", \"Topic5\", \"Topic5\", \"Topic5\", \"Topic5\", \"Topic5\", \"Topic5\", \"Topic5\", \"Topic5\"], \"Freq\": [4.0, 3.0, 4.0, 3.0, 1.0, 2.0, 2.0, 2.0, 5.0, 2.0, 1.0, 1.0, 1.0, 1.0, 4.0, 1.0, 1.0, 1.0, 2.0, 2.0, 2.0, 2.0, 2.0, 2.0, 1.0, 1.0, 1.0, 1.0, 1.0, 2.0, 1.096550703048706, 0.5981342196464539, 0.5981336236000061, 0.5981331467628479, 0.5981329083442688, 0.5981329679489136, 0.598132848739624, 0.5981319546699524, 0.5981318354606628, 0.5981317162513733, 0.5981313586235046, 0.5981311798095703, 0.5981307625770569, 0.5981298089027405, 0.5981293320655823, 0.5981292128562927, 0.5981290340423584, 0.5981289148330688, 0.5981286764144897, 0.5981281995773315, 0.5981279015541077, 0.5981276631355286, 0.5981273651123047, 0.5981261134147644, 0.5981255173683167, 0.5981255173683167, 0.5981254577636719, 0.5981254577636719, 0.5981253981590271, 0.5981253385543823, 1.0973352193832397, 1.0979796648025513, 1.0970494747161865, 1.0987796783447266, 1.0954500436782837, 0.5999176502227783, 0.5998456478118896, 0.5990247130393982, 0.598508358001709, 0.5983432531356812, 0.5983293652534485, 0.5982961058616638, 0.5982544422149658, 0.5982540845870972, 0.5982418060302734, 0.5981684327125549, 0.5981628894805908, 1.2264693975448608, 1.2264639139175415, 1.2264503240585327, 1.2263991832733154, 0.6689836978912354, 0.6689823865890503, 0.6689815521240234, 0.6689812541007996, 0.6689812541007996, 0.6689810156822205, 0.6689810156822205, 0.6689809560775757, 0.6689807176589966, 0.6689803600311279, 0.668980062007904, 0.6689797639846802, 0.6689797043800354, 0.6689794659614563, 0.6689793467521667, 0.6689791083335876, 0.6689788699150085, 0.668978750705719, 0.668978214263916, 0.668978214263916, 0.6689779162406921, 0.6689778566360474, 0.6689777970314026, 0.6689776182174683, 0.6689771413803101, 0.6689766645431519, 1.7851898670196533, 1.7831947803497314, 1.224922776222229, 0.6698166131973267, 0.6696738600730896, 0.66932612657547, 0.6692659258842468, 0.6692039370536804, 0.6691941022872925, 0.6691931486129761, 0.669152557849884, 0.6691441535949707, 0.6690359115600586, 0.6690011024475098, 0.6689918041229248, 3.908021926879883, 3.356776475906372, 1.2128056287765503, 1.2127888202667236, 1.2127759456634521, 0.6615327000617981, 0.6615318655967712, 0.6615315079689026, 0.6615314483642578, 0.6615310907363892, 0.6615309119224548, 0.6615309119224548, 0.6615309119224548, 0.6615305542945862, 0.6615298986434937, 0.6615298986434937, 0.6615296602249146, 0.6615293622016907, 0.6615290641784668, 0.6615282893180847, 0.6615278124809265, 0.6615278124809265, 0.6615273356437683, 0.6615272164344788, 0.6615264415740967, 0.6615264415740967, 0.6615250110626221, 0.6615245342254639, 0.6615241765975952, 0.6615238785743713, 0.661523699760437, 1.213577151298523, 1.2134344577789307, 1.212571382522583, 1.2110639810562134, 1.2067831754684448, 1.2140089273452759, 1.2137835025787354, 1.2110018730163574, 1.2129006385803223, 0.6620475053787231, 0.661834180355072, 0.6616837382316589, 0.6616600751876831, 0.6616031527519226, 0.6616024374961853, 0.6615619659423828, 1.3040543794631958, 1.3040492534637451, 3.0839390754699707, 0.7113035321235657, 0.7113025188446045, 0.711301863193512, 0.7113015651702881, 0.7113014459609985, 0.7113010287284851, 0.7113006711006165, 0.7113003134727478, 0.7112997770309448, 0.7112994194030762, 0.7112987041473389, 0.711298406124115, 0.7112981677055359, 0.711297333240509, 0.7112972736358643, 0.7112969756126404, 0.7112964987754822, 0.7112962603569031, 0.7112963795661926, 0.7112958431243896, 0.7112959027290344, 0.7112958431243896, 0.7112954258918762, 0.7112950086593628, 0.711294949054718, 0.7112946510314941, 0.7112946510314941, 0.7112947106361389, 1.3044453859329224, 1.304012417793274, 1.3040006160736084, 1.3042793273925781, 3.0904266834259033, 1.8980991840362549, 1.3097270727157593, 1.303513765335083, 1.3052423000335693, 0.7131245136260986, 0.7129082679748535, 0.7124675512313843, 0.7123175263404846, 0.7115964293479919, 0.7115542888641357, 0.711486279964447, 0.7114367485046387, 0.7114307880401611, 0.7114237546920776, 0.7113749980926514, 0.7113733291625977, 0.7113728523254395, 0.7113370895385742, 1.271132469177246, 1.2711101770401, 1.271095871925354, 1.2710944414138794, 1.2710739374160767, 0.6933495402336121, 0.6933490633964539, 0.69334876537323, 0.6933484077453613, 0.6933479309082031, 0.6933479309082031, 0.6933474540710449, 0.6933474540710449, 0.6933468580245972, 0.6933459043502808, 0.6933456659317017, 0.6933448314666748, 0.6933446526527405, 0.6933446526527405, 0.6933432817459106, 0.6933431029319763, 0.6933416128158569, 0.6933414340019226, 0.6933413147926331, 0.6933413147926331, 0.6933413147926331, 0.6933407187461853, 0.6933404803276062, 0.6933404803276062, 0.6933400630950928, 1.2716484069824219, 2.4290151596069336, 1.8502707481384277, 1.2726296186447144, 1.849362850189209, 1.2719628810882568, 0.6952932476997375, 0.6946156024932861, 0.6937476396560669, 0.6936562061309814, 0.6936553120613098, 0.6936525106430054, 0.6935759782791138, 0.6935725212097168, 0.6935397386550903, 0.6934749484062195, 0.6934045553207397, 0.6933777332305908, 0.6933658719062805, 0.6933530569076538, 0.6933495402336121], \"Term\": [\"talks\", \"lightning\", \"space\", \"world\", \"dieselgate\", \"smart\", \"city\", \"network\", \"surveillance\", \"knowledge\", \"hardware\", \"ceremony\", \"understanding\", \"collective\", \"state\", \"human\", \"experience\", \"source\", \"mobile\", \"censorship\", \"digital\", \"dissect\", \"modern\", \"germany\", \"robot\", \"refugee\", \"engineering\", \"anf\\u00e4ngerz\", \"reverse\", \"jahresr\\u00fcckblick\", \"dieselgate\", \"generalschl\\u00fcssel\", \"interactive\", \"unsere\", \"demokratie\", \"daten\", \"hochsecuritys\", \"marke\", \"zerst\\u00f6rte\", \"eigenbau\", \"zukunft\", \"laypeople\", \"wireless\", \"argument\", \"printing\", \"succinct\", \"talking\", \"overview\", \"wpa2/802.11\", \"closer\", \"populisten\", \"function\", \"political\", \"predict\", \"physically\", \"sprache\", \"sslv2\", \"reaction\", \"power\", \"driverless\", \"smart\", \"network\", \"city\", \"knowledge\", \"world\", \"prngs\", \"things\", \"behind\", \"netzpolitik\", \"protection\", \"breaking\", \"politics\", \"lernen\", \"kampf\", \"server\", \"modern\", \"dissect\", \"hardware\", \"ceremony\", \"understanding\", \"collective\", \"macht\", \"conference\", \"capture\", \"schule\", \"reflexion\", \"sound\", \"shape\", \"create\", \"mapping\", \"technikbegeisterung\", \"sensitive\", \"update\", \"recording\", \"chaos\", \"official\", \"zwischen\", \"kritischer\", \"sniff\", \"description\", \"saving\", \"net.art\", \"developing\", \"datenbanken\", \"leak\", \"l\\u00f6schungsanspruch\", \"systemic\", \"world\", \"security\", \"space\", \"fight\", \"k\\u00f6nnen\", \"behind\", \"making\", \"method\", \"base\", \"exploration\", \"information\", \"group\", \"infrastructure\", \"include\", \"language\", \"talks\", \"lightning\", \"human\", \"experience\", \"source\", \"control\", \"ultrasound\", \"ecosystem\", \"programmable\", \"modification\", \"logic\", \"computational\", \"sharing\", \"scanning\", \"kernel\", \"reimagining\", \"channel\", \"linguistics\", \"skill\", \"bypass\", \"write\", \"stealth\", \"mix\", \"extremely\", \"abtrittanbietern\", \"sub-$1\", \"cortex\", \"speed\", \"stack\", \"sensory\", \"running\", \"mobile\", \"censorship\", \"digital\", \"jahresr\\u00fcckblick\", \"reality\", \"attack\", \"internet\", \"technology\", \"privacy\", \"behind\", \"global\", \"controller\", \"transfer\", \"communication\", \"tracking\", \"analyze\", \"money\", \"wide\", \"space\", \"gewissheiten\", \"konstruiert\", \"sprachlich\", \"unwanted\", \"uninvited\", \"augment\", \"werden\", \"presidential\", \"politische\", \"recount\", \"virtual\", \"audit\", \"election\", \"waren\", \"einblick\", \"automatisierungstechnik\", \"welcome\", \"leisten\", \"sensor\", \"sozialen\", \"landwirtschaft\", \"inter)national\", \"malware\", \"falschmeldungen\", \"schon\", \"chain\", \"smtbmc\", \"verification\", \"germany\", \"dissect\", \"modern\", \"science\", \"security\", \"privacy\", \"technology\", \"state\", \"surveillance\", \"jahresr\\u00fcckblick\", \"rechtsdurchsetzung\", \"reality\", \"machine\", \"platform\", \"beyond\", \"works\", \"spiegel\", \"everyone\", \"online\", \"rechte\", \"want\", \"pegasus\", \"kleine\", \"robot\", \"refugee\", \"engineering\", \"anf\\u00e4ngerz\", \"reverse\", \"lesson\", \"instruction\", \"neighbourhood\", \"different\", \"possibly\", \"securityation\", \"wrong\", \"insert\", \"corporate\", \"owards\", \"technique\", \"radio\", \"could\", \"implement\", \"crappy\", \"edible\", \"laptop\", \"searchwing\", \"oauth\", \"search\", \"battle\", \"entropy\", \"intentionally\", \"bootstrap\", \"connect\", \"retail\", \"surveillance\", \"state\", \"base\", \"security\", \"internet\", \"company\", \"machine\", \"enforcement\", \"deduplication\", \"global\", \"memory\", \"define\", \"software\", \"digital\", \"review\", \"countersurveillance\", \"learn\", \"building\", \"reject\", \"drone\"], \"Total\": [4.0, 3.0, 4.0, 3.0, 1.0, 2.0, 2.0, 2.0, 5.0, 2.0, 1.0, 1.0, 1.0, 1.0, 4.0, 1.0, 1.0, 1.0, 2.0, 2.0, 2.0, 2.0, 2.0, 2.0, 1.0, 1.0, 1.0, 1.0, 1.0, 2.0, 1.5524866580963135, 1.0540229082107544, 1.054023027420044, 1.054023027420044, 1.0540229082107544, 1.0540231466293335, 1.054023027420044, 1.0540231466293335, 1.0540231466293335, 1.0540231466293335, 1.0540231466293335, 1.054023265838623, 1.0540235042572021, 1.054023265838623, 1.0540235042572021, 1.0540235042572021, 1.0540236234664917, 1.0540236234664917, 1.0540236234664917, 1.0540237426757812, 1.0540237426757812, 1.0540238618850708, 1.0540238618850708, 1.0540239810943604, 1.0540239810943604, 1.0540242195129395, 1.05402410030365, 1.0540242195129395, 1.05402410030365, 1.05402410030365, 2.145104169845581, 2.681414842605591, 2.687711238861084, 2.7226715087890625, 3.2251064777374268, 1.646118402481079, 1.631553292274475, 2.755347728729248, 1.6467150449752808, 1.6467485427856445, 1.6317960023880005, 1.6054680347442627, 1.6115055084228516, 1.6115058660507202, 1.646767020225525, 2.23954701423645, 2.2395482063293457, 1.6705546379089355, 1.6705548763275146, 1.670554518699646, 1.6705540418624878, 1.1130589246749878, 1.1130588054656982, 1.1130588054656982, 1.1130588054656982, 1.1130588054656982, 1.1130588054656982, 1.1130588054656982, 1.1130588054656982, 1.1130586862564087, 1.1130588054656982, 1.1130589246749878, 1.1130588054656982, 1.1130588054656982, 1.1130588054656982, 1.1130589246749878, 1.1130589246749878, 1.1130588054656982, 1.1130589246749878, 1.1130589246749878, 1.1130589246749878, 1.1130588054656982, 1.1130589246749878, 1.1130588054656982, 1.1130588054656982, 1.1130588054656982, 1.1130590438842773, 3.2251064777374268, 7.97616720199585, 4.634476661682129, 1.6116163730621338, 1.6908341646194458, 2.755347728729248, 1.7058050632476807, 1.6643506288528442, 2.7673532962799072, 1.7058089971542358, 1.664349913597107, 1.6115368604660034, 1.6908599138259888, 1.6643483638763428, 1.6643483638763428, 4.419186115264893, 3.8678951263427734, 1.6581413745880127, 1.6581414937973022, 1.6581416130065918, 1.1068520545959473, 1.1068520545959473, 1.1068520545959473, 1.1068520545959473, 1.1068521738052368, 1.1068520545959473, 1.1068520545959473, 1.1068521738052368, 1.1068520545959473, 1.1068520545959473, 1.1068521738052368, 1.1068521738052368, 1.1068521738052368, 1.1068521738052368, 1.1068521738052368, 1.1068520545959473, 1.1068520545959473, 1.1068521738052368, 1.1068521738052368, 1.1068520545959473, 1.1068521738052368, 1.1068519353866577, 1.1068520545959473, 1.1068521738052368, 1.1068522930145264, 1.1068521738052368, 2.2359066009521484, 2.2359135150909424, 2.235952854156494, 2.251033067703247, 2.2512173652648926, 2.793398857116699, 3.8697409629821777, 3.9792115688323975, 4.51279878616333, 2.755347728729248, 2.242159128189087, 1.6053290367126465, 1.6996073722839355, 1.6846930980682373, 1.6846528053283691, 1.6995608806610107, 1.7410932779312134, 1.7410929203033447, 4.634476661682129, 1.148328185081482, 1.1483280658721924, 1.1483279466629028, 1.1483279466629028, 1.1483279466629028, 1.1483279466629028, 1.1483278274536133, 1.1483278274536133, 1.1483277082443237, 1.1483277082443237, 1.1483277082443237, 1.1483277082443237, 1.1483277082443237, 1.1483274698257446, 1.1483275890350342, 1.1483275890350342, 1.1483275890350342, 1.1483274698257446, 1.1483277082443237, 1.1483274698257446, 1.1483275890350342, 1.1483275890350342, 1.148327350616455, 1.1483274698257446, 1.148327350616455, 1.1483272314071655, 1.1483272314071655, 1.148327350616455, 2.2396154403686523, 2.2395482063293457, 2.23954701423645, 2.29860258102417, 7.97616720199585, 4.51279878616333, 3.9792115688323975, 4.032014846801758, 5.102437496185303, 2.251033067703247, 1.7261713743209839, 2.2512173652648926, 2.2775468826293945, 1.6996368169784546, 1.699634313583374, 1.6996296644210815, 1.7261333465576172, 1.6996256113052368, 1.7261319160461426, 1.7261312007904053, 1.7058277130126953, 1.7261320352554321, 1.7261301279067993, 1.7111703157424927, 1.7111692428588867, 1.7111684083938599, 1.7111680507659912, 1.7111676931381226, 1.1333664655685425, 1.133366584777832, 1.133366584777832, 1.133366584777832, 1.133366584777832, 1.1333664655685425, 1.133366584777832, 1.1333667039871216, 1.1333664655685425, 1.133366584777832, 1.133366584777832, 1.133366346359253, 1.133366346359253, 1.133366346359253, 1.133366346359253, 1.133366346359253, 1.133366346359253, 1.133366346359253, 1.133366346359253, 1.133366346359253, 1.1333662271499634, 1.1333662271499634, 1.1333661079406738, 1.1333662271499634, 1.133366346359253, 2.3039233684539795, 5.102437496185303, 4.032014846801758, 2.7673532962799072, 7.97616720199585, 3.8697409629821777, 1.6909308433532715, 2.2775468826293945, 1.6908748149871826, 1.6846696138381958, 2.242159128189087, 1.6846697330474854, 1.7261250019073486, 1.726124882698059, 2.235952854156494, 1.6318467855453491, 1.7261298894882202, 1.6318309307098389, 1.6318342685699463, 1.6846556663513184, 1.6908619403839111], \"loglift\": [30.0, 29.0, 28.0, 27.0, 26.0, 25.0, 24.0, 23.0, 22.0, 21.0, 20.0, 19.0, 18.0, 17.0, 16.0, 15.0, 14.0, 13.0, 12.0, 11.0, 10.0, 9.0, 8.0, 7.0, 6.0, 5.0, 4.0, 3.0, 2.0, 1.0, 1.5273000001907349, 1.308500051498413, 1.308500051498413, 1.308500051498413, 1.308500051498413, 1.308500051498413, 1.308500051498413, 1.308500051498413, 1.308500051498413, 1.308500051498413, 1.308500051498413, 1.308500051498413, 1.308500051498413, 1.308500051498413, 1.30840003490448, 1.30840003490448, 1.30840003490448, 1.30840003490448, 1.30840003490448, 1.30840003490448, 1.30840003490448, 1.30840003490448, 1.30840003490448, 1.30840003490448, 1.30840003490448, 1.30840003490448, 1.30840003490448, 1.30840003490448, 1.30840003490448, 1.30840003490448, 1.204699993133545, 0.9821000099182129, 0.9789000153541565, 0.9675999879837036, 0.795199990272522, 0.8655999898910522, 0.8744000196456909, 0.3490000069141388, 0.8629000186920166, 0.8626000285148621, 0.8716999888420105, 0.8878999948501587, 0.8841000199317932, 0.8841000199317932, 0.8623999953269958, 0.5548999905586243, 0.5547999739646912, 1.322700023651123, 1.322700023651123, 1.322700023651123, 1.322700023651123, 1.1225999593734741, 1.1225999593734741, 1.1225999593734741, 1.1225999593734741, 1.1225999593734741, 1.1225999593734741, 1.1225999593734741, 1.1225999593734741, 1.1225999593734741, 1.1225999593734741, 1.1225999593734741, 1.1225999593734741, 1.1225999593734741, 1.1225999593734741, 1.1225999593734741, 1.1225999593734741, 1.1225999593734741, 1.1225999593734741, 1.1225999593734741, 1.1225999593734741, 1.1225999593734741, 1.1225999593734741, 1.1225999593734741, 1.1225999593734741, 1.1225999593734741, 1.1225999593734741, 1.0403000116348267, 0.13369999825954437, 0.3010999858379364, 0.7537000179290771, 0.7055000066757202, 0.2167000025510788, 0.6960999965667725, 0.7206000089645386, 0.21220000088214874, 0.6959999799728394, 0.7204999923706055, 0.7527999877929688, 0.7045999765396118, 0.720300018787384, 0.720300018787384, 1.4997999668121338, 1.4809999465942383, 1.3099000453948975, 1.3099000453948975, 1.3099000453948975, 1.1080000400543213, 1.1080000400543213, 1.1080000400543213, 1.1080000400543213, 1.1080000400543213, 1.1080000400543213, 1.1080000400543213, 1.1080000400543213, 1.1080000400543213, 1.1080000400543213, 1.1080000400543213, 1.1080000400543213, 1.1080000400543213, 1.1080000400543213, 1.1080000400543213, 1.1080000400543213, 1.1080000400543213, 1.1080000400543213, 1.1080000400543213, 1.1080000400543213, 1.1080000400543213, 1.1080000400543213, 1.1080000400543213, 1.1080000400543213, 1.1080000400543213, 1.1080000400543213, 1.0116000175476074, 1.0115000009536743, 1.0108000040054321, 1.0027999877929688, 0.9991999864578247, 0.7893999814987183, 0.4632999897003174, 0.43309998512268066, 0.30880001187324524, 0.19670000672340393, 0.4025000035762787, 0.7364000082015991, 0.6793000102043152, 0.6880000233650208, 0.6880999803543091, 0.6791999936103821, 1.1519999504089355, 1.1519999504089355, 1.0336999893188477, 0.9621000289916992, 0.9621000289916992, 0.9621000289916992, 0.9621000289916992, 0.9621000289916992, 0.9621000289916992, 0.9621000289916992, 0.9621000289916992, 0.9621000289916992, 0.9621000289916992, 0.9621000289916992, 0.9621000289916992, 0.9621000289916992, 0.9621000289916992, 0.9621000289916992, 0.9621000289916992, 0.9621000289916992, 0.9621000289916992, 0.9621000289916992, 0.9621000289916992, 0.9621000289916992, 0.9621000289916992, 0.9621000289916992, 0.9621000289916992, 0.9621000289916992, 0.9621000289916992, 0.9621000289916992, 0.9621000289916992, 0.9004999995231628, 0.9002000093460083, 0.9002000093460083, 0.8744000196456909, 0.492900013923645, 0.574999988079071, 0.329800009727478, 0.3118000030517578, 0.07769999653100967, 0.29159998893737793, 0.5566999912261963, 0.2904999852180481, 0.27869999408721924, 0.5703999996185303, 0.5702999830245972, 0.5702000260353088, 0.5547000169754028, 0.5702000260353088, 0.5547000169754028, 0.5546000003814697, 0.5663999915122986, 0.5546000003814697, 0.5544999837875366, 1.2304999828338623, 1.2304999828338623, 1.2304999828338623, 1.2304999828338623, 1.2304999828338623, 1.0363999605178833, 1.0363999605178833, 1.0363999605178833, 1.0363999605178833, 1.0363999605178833, 1.0363999605178833, 1.0363999605178833, 1.0363999605178833, 1.0363999605178833, 1.0363999605178833, 1.0363999605178833, 1.0363999605178833, 1.0363999605178833, 1.0363999605178833, 1.0363999605178833, 1.0363999605178833, 1.0363999605178833, 1.0363999605178833, 1.0363999605178833, 1.0363999605178833, 1.0363999605178833, 1.0363999605178833, 1.0363999605178833, 1.0363999605178833, 1.0363999605178833, 0.9334999918937683, 0.7856000065803528, 0.7488999962806702, 0.7509999871253967, 0.06620000302791595, 0.41519999504089355, 0.6391000151634216, 0.3402999937534332, 0.636900007724762, 0.640500009059906, 0.3546000123023987, 0.640500009059906, 0.6159999966621399, 0.6159999966621399, 0.3571999967098236, 0.6721000075340271, 0.6158000230789185, 0.6718999743461609, 0.6718999743461609, 0.6399999856948853, 0.6363999843597412], \"logprob\": [30.0, 29.0, 28.0, 27.0, 26.0, 25.0, 24.0, 23.0, 22.0, 21.0, 20.0, 19.0, 18.0, 17.0, 16.0, 15.0, 14.0, 13.0, 12.0, 11.0, 10.0, 9.0, 8.0, 7.0, 6.0, 5.0, 4.0, 3.0, 2.0, 1.0, -4.729899883270264, -5.335999965667725, -5.335999965667725, -5.335999965667725, -5.335999965667725, -5.335999965667725, -5.335999965667725, -5.335999965667725, -5.335999965667725, -5.335999965667725, -5.335999965667725, -5.335999965667725, -5.335999965667725, -5.335999965667725, -5.335999965667725, -5.335999965667725, -5.335999965667725, -5.335999965667725, -5.335999965667725, -5.335999965667725, -5.335999965667725, -5.335999965667725, -5.335999965667725, -5.335999965667725, -5.335999965667725, -5.335999965667725, -5.335999965667725, -5.335999965667725, -5.335999965667725, -5.335999965667725, -4.729100227355957, -4.728600025177002, -4.729400157928467, -4.727799892425537, -4.730899810791016, -5.333000183105469, -5.333099842071533, -5.334499835968018, -5.335299968719482, -5.335599899291992, -5.335599899291992, -5.335700035095215, -5.3358001708984375, -5.3358001708984375, -5.3358001708984375, -5.335899829864502, -5.335899829864502, -4.861199855804443, -4.861199855804443, -4.861199855804443, -4.861199855804443, -5.467299938201904, -5.467299938201904, -5.467299938201904, -5.467299938201904, -5.467299938201904, -5.467299938201904, -5.467299938201904, -5.467299938201904, -5.467299938201904, -5.467299938201904, -5.467299938201904, -5.467299938201904, -5.467299938201904, -5.467299938201904, -5.467299938201904, -5.467299938201904, -5.467299938201904, -5.467299938201904, -5.467299938201904, -5.467299938201904, -5.467299938201904, -5.467299938201904, -5.467299938201904, -5.467299938201904, -5.467299938201904, -5.467299938201904, -4.485799789428711, -4.4868998527526855, -4.862400054931641, -5.466100215911865, -5.466300010681152, -5.466800212860107, -5.466899871826172, -5.4670000076293945, -5.4670000076293945, -5.4670000076293945, -5.467100143432617, -5.467100143432617, -5.467199802398682, -5.467299938201904, -5.467299938201904, -3.7112998962402344, -3.863300085067749, -4.881400108337402, -4.881400108337402, -4.881400108337402, -5.487500190734863, -5.487500190734863, -5.487500190734863, -5.487500190734863, -5.487500190734863, -5.487500190734863, -5.487500190734863, -5.487500190734863, -5.487500190734863, -5.487500190734863, -5.487500190734863, -5.487500190734863, -5.487500190734863, -5.487500190734863, -5.487500190734863, -5.487500190734863, -5.487500190734863, -5.487500190734863, -5.487500190734863, -5.487500190734863, -5.487500190734863, -5.487500190734863, -5.487500190734863, -5.487500190734863, -5.487500190734863, -5.487500190734863, -4.880799770355225, -4.880899906158447, -4.8815999031066895, -4.882800102233887, -4.88640022277832, -4.88040018081665, -4.8805999755859375, -4.882900238037109, -4.88129997253418, -5.486700057983398, -5.487100124359131, -5.487299919128418, -5.487299919128418, -5.487400054931641, -5.487400054931641, -5.487500190734863, -4.990499973297119, -4.990499973297119, -4.129799842834473, -5.59660005569458, -5.596700191497803, -5.596700191497803, -5.596700191497803, -5.596700191497803, -5.596700191497803, -5.596700191497803, -5.596700191497803, -5.596700191497803, -5.596700191497803, -5.596700191497803, -5.596700191497803, -5.596700191497803, -5.596700191497803, -5.596700191497803, -5.596700191497803, -5.596700191497803, -5.596700191497803, -5.596700191497803, -5.596700191497803, -5.596700191497803, -5.596700191497803, -5.596700191497803, -5.596700191497803, -5.596700191497803, -5.596700191497803, -5.596700191497803, -5.596700191497803, -4.990200042724609, -4.990499973297119, -4.990600109100342, -4.990300178527832, -4.127699851989746, -4.615099906921387, -4.986199855804443, -4.990900039672852, -4.98960018157959, -5.594099998474121, -5.594399929046631, -5.59499979019165, -5.595200061798096, -5.596199989318848, -5.59630012512207, -5.596399784088135, -5.596499919891357, -5.596499919891357, -5.596499919891357, -5.596499919891357, -5.59660005569458, -5.59660005569458, -5.59660005569458, -4.929299831390381, -4.929299831390381, -4.929299831390381, -4.929299831390381, -4.9293999671936035, -5.535399913787842, -5.535399913787842, -5.535399913787842, -5.535399913787842, -5.535399913787842, -5.535399913787842, -5.535399913787842, -5.535399913787842, -5.535399913787842, -5.535399913787842, -5.535399913787842, -5.535399913787842, -5.535399913787842, -5.535399913787842, -5.5355000495910645, -5.5355000495910645, -5.5355000495910645, -5.5355000495910645, -5.5355000495910645, -5.5355000495910645, -5.5355000495910645, -5.5355000495910645, -5.5355000495910645, -5.5355000495910645, -5.5355000495910645, -4.928899765014648, -4.281700134277344, -4.553899765014648, -4.928100109100342, -4.5543999671936035, -4.928699970245361, -5.532599925994873, -5.533599853515625, -5.534900188446045, -5.534999847412109, -5.534999847412109, -5.534999847412109, -5.535099983215332, -5.535099983215332, -5.535200119018555, -5.535299777984619, -5.535399913787842, -5.535399913787842, -5.535399913787842, -5.535399913787842, -5.535399913787842]}, \"token.table\": {\"Topic\": [3, 3, 4, 5, 1, 2, 3, 5, 4, 4, 4, 1, 2, 5, 5, 1, 2, 3, 4, 3, 4, 5, 1, 5, 1, 5, 3, 2, 3, 5, 2, 4, 3, 2, 1, 2, 5, 1, 2, 3, 5, 2, 5, 3, 2, 5, 3, 1, 3, 5, 3, 5, 4, 5, 5, 2, 1, 2, 3, 5, 4, 5, 1, 2, 2, 1, 5, 3, 5, 1, 4, 1, 2, 5, 3, 5, 1, 4, 4, 2, 5, 5, 5, 3, 4, 3, 2, 4, 3, 4, 1, 2, 1, 1, 1, 4, 4, 2, 3, 5, 1, 2, 2, 1, 3, 5, 2, 3, 2, 3, 2, 5, 5, 5, 5, 4, 1, 1, 2, 3, 5, 3, 4, 1, 2, 3, 4, 5, 1, 4, 5, 4, 2, 2, 5, 4, 2, 3, 5, 1, 2, 1, 5, 4, 1, 2, 5, 3, 3, 3, 2, 3, 4, 5, 2, 2, 4, 4, 2, 1, 3, 5, 2, 3, 3, 3, 5, 1, 4, 3, 4, 5, 2, 1, 3, 5, 1, 4, 5, 2, 4, 5, 1, 5, 4, 5, 1, 3, 4, 1, 1, 3, 4, 1, 5, 1, 1, 4, 1, 1, 3, 4, 5, 1, 4, 3, 1, 4, 5, 1, 3, 4, 4, 5, 4, 5, 2, 4, 2, 5, 3, 3, 5, 4, 5, 5, 1, 5, 5, 3, 2, 3, 4, 2, 2, 4, 5, 5, 1, 2, 3, 4, 5, 5, 2, 4, 3, 1, 4, 2, 3, 3, 1, 4, 4, 2, 4, 5, 2, 3, 4, 2, 4, 3, 4, 5, 1, 4, 1, 3, 2, 4, 5, 3, 3, 1, 1, 3, 4, 5, 2, 1, 3, 2, 5, 2, 3, 4, 5, 1, 5, 3, 5, 3, 4, 3, 2, 4, 1, 4, 2, 4, 4, 2, 4, 4, 4, 4, 4, 1, 3, 4, 1, 2, 1, 3, 5, 1, 1, 2], \"Freq\": [0.9034631252288818, 0.5883872509002686, 0.5883872509002686, 0.5843961238861084, 0.9487456679344177, 0.35798683762550354, 0.35798683762550354, 0.35798683762550354, 0.8708315491676331, 0.8708313703536987, 0.8708316683769226, 0.36135610938072205, 0.36135610938072205, 0.36135610938072205, 0.8823273181915283, 0.3629305958747864, 0.3629305958747864, 0.3629305958747864, 0.3629305958747864, 0.5883618593215942, 0.5883618593215942, 0.8823273181915283, 0.6128216981887817, 0.6128216981887817, 0.6128073334693909, 0.6128073334693909, 0.9034630060195923, 0.8984251022338867, 0.4472444951534271, 0.4472444951534271, 0.5986034870147705, 0.8708319067955017, 0.9034630060195923, 0.8984251022338867, 0.3720637857913971, 0.3720637857913971, 0.3720637857913971, 0.9487452507019043, 0.5986037850379944, 0.5935799479484558, 0.5935799479484558, 0.5913902521133423, 0.5913902521133423, 0.9034631252288818, 0.8984251022338867, 0.8823272585868835, 0.9034631252288818, 0.6229252815246582, 0.6229252815246582, 0.882327139377594, 0.9034631848335266, 0.8823272585868835, 0.5793306827545166, 0.5793306827545166, 0.8823272585868835, 0.8984251022338867, 0.9487457871437073, 0.8984251022338867, 0.5935881733894348, 0.5935881733894348, 0.5793322920799255, 0.5793322920799255, 0.9487459659576416, 0.8984250426292419, 0.8984250426292419, 0.6441279053688049, 0.8823270797729492, 0.4472366273403168, 0.4472366273403168, 0.4465186297893524, 0.4465186297893524, 0.9487448930740356, 0.5914143323898315, 0.5914143323898315, 0.9034631252288818, 0.8823272585868835, 0.9487457871437073, 0.8708316683769226, 0.8708315491676331, 0.5914098620414734, 0.5914098620414734, 0.5843960046768188, 0.8823273181915283, 0.588364839553833, 0.588364839553833, 0.6030848622322083, 0.5862321257591248, 0.5862321257591248, 0.9034630060195923, 0.8708317279815674, 0.620495080947876, 0.620495080947876, 0.9487451314926147, 0.9487459659576416, 0.44650521874427795, 0.44650521874427795, 0.8708311915397644, 0.4459986686706543, 0.4459986686706543, 0.4459986686706543, 0.6205256581306458, 0.6205256581306458, 0.5986036062240601, 0.948745846748352, 0.6030848622322083, 0.8823272585868835, 0.6008357405662537, 0.6008357405662537, 0.6008352041244507, 0.6008352041244507, 0.5914150476455688, 0.5914150476455688, 0.8823269605636597, 0.8823270797729492, 0.8823274374008179, 0.8708316683769226, 0.948745846748352, 0.25841522216796875, 0.25841522216796875, 0.25841522216796875, 0.25841522216796875, 0.4442404806613922, 0.4442404806613922, 0.6205376386642456, 0.6205376386642456, 0.9034631252288818, 0.5793306231498718, 0.5793306231498718, 0.3672863245010376, 0.3672863245010376, 0.3672863245010376, 0.8708312511444092, 0.8984251022338867, 0.5914240479469299, 0.5914240479469299, 0.8708316683769226, 0.6008357405662537, 0.6008357405662537, 0.8823272585868835, 0.9487456679344177, 0.8984251022338867, 0.6128085851669312, 0.6128085851669312, 0.8708317279815674, 0.6205377578735352, 0.6205377578735352, 0.882327139377594, 0.7756156325340271, 0.9034630060195923, 0.9034631252288818, 0.8984251022338867, 0.43906888365745544, 0.43906888365745544, 0.43906888365745544, 0.8984250426292419, 0.5862334370613098, 0.5862334370613098, 0.8708318471908569, 0.8984252214431763, 0.9487457871437073, 0.5935881733894348, 0.5935881733894348, 0.6008349061012268, 0.6008349061012268, 0.9034630060195923, 0.44724586606025696, 0.44724586606025696, 0.4465188682079315, 0.4465188682079315, 0.9034630060195923, 0.5743517875671387, 0.8823270797729492, 0.8984251022338867, 0.3729374408721924, 0.3729374408721924, 0.3729374408721924, 0.6072695851325989, 0.6072695851325989, 0.8823272585868835, 0.8984250426292419, 0.5793300271034241, 0.5793300271034241, 0.9487453103065491, 0.8823270797729492, 0.5793299674987793, 0.5793299674987793, 0.9487450122833252, 0.5883609652519226, 0.5883609652519226, 0.9487451314926147, 0.6228713393211365, 0.6228713393211365, 0.8708315491676331, 0.9487452507019043, 0.8823270797729492, 0.9487448930740356, 0.9487450122833252, 0.8708314895629883, 0.9487454295158386, 0.221591979265213, 0.221591979265213, 0.443183958530426, 0.221591979265213, 0.6074897050857544, 0.6074897050857544, 0.9034631252288818, 0.6072572469711304, 0.6072572469711304, 0.8823272585868835, 0.9487447738647461, 0.4442041218280792, 0.4442041218280792, 0.5793302655220032, 0.5793302655220032, 0.5793167352676392, 0.5793167352676392, 0.8984251022338867, 0.8708315491676331, 0.8984251022338867, 0.584395706653595, 0.9034630060195923, 0.5935931205749512, 0.5935931205749512, 0.43404221534729004, 0.43404221534729004, 0.584396243095398, 0.6128026247024536, 0.6128026247024536, 0.5843953490257263, 0.9034630060195923, 0.8984250426292419, 0.9034631252288818, 0.8708318471908569, 0.8984251022338867, 0.4350469410419464, 0.4350469410419464, 0.8823272585868835, 0.8823272585868835, 0.1253734976053238, 0.2507469952106476, 0.1253734976053238, 0.37612050771713257, 0.2507469952106476, 0.882327139377594, 0.8984250426292419, 0.8708315491676331, 0.9034628868103027, 0.607250452041626, 0.607250452041626, 0.8984251022338867, 0.9034630060195923, 0.9034630060195923, 0.4661778211593628, 0.4661778211593628, 0.8708319067955017, 0.8984250426292419, 0.5793323516845703, 0.5793323516845703, 0.8984251022338867, 0.6030848026275635, 0.8708317279815674, 0.21577408909797668, 0.6473222970962524, 0.9034631252288818, 0.5793294906616211, 0.5793294906616211, 0.9487447738647461, 0.8708313703536987, 0.9487448930740356, 0.9034630060195923, 0.24801495671272278, 0.24801495671272278, 0.49602991342544556, 0.9034631252288818, 0.9034630060195923, 0.9487454295158386, 0.19598476588726044, 0.19598476588726044, 0.19598476588726044, 0.3919695317745209, 0.8984249234199524, 0.9487453103065491, 0.9051440358161926, 0.8984251022338867, 0.8823270797729492, 0.25130605697631836, 0.25130605697631836, 0.25130605697631836, 0.25130605697631836, 0.6129128336906433, 0.6129128336906433, 0.5935941338539124, 0.5935941338539124, 0.5883711576461792, 0.5883711576461792, 0.9034631252288818, 0.5986036062240601, 0.8708313703536987, 0.948745846748352, 0.8708313703536987, 0.8984251022338867, 0.8708318471908569, 0.8708315491676331, 0.586225688457489, 0.586225688457489, 0.8708317279815674, 0.8708316683769226, 0.8708314895629883, 0.5743519067764282, 0.9487454295158386, 0.5883634686470032, 0.5883634686470032, 0.3100672960281372, 0.6201345920562744, 0.9487453103065491, 0.9034631252288818, 0.8823270797729492, 0.9487457871437073, 0.9487457871437073, 0.8984250426292419], \"Term\": [\"abtrittanbietern\", \"analyze\", \"analyze\", \"anf\\u00e4ngerz\", \"argument\", \"attack\", \"attack\", \"attack\", \"audit\", \"augment\", \"automatisierungstechnik\", \"base\", \"base\", \"base\", \"battle\", \"behind\", \"behind\", \"behind\", \"behind\", \"beyond\", \"beyond\", \"bootstrap\", \"breaking\", \"breaking\", \"building\", \"building\", \"bypass\", \"capture\", \"censorship\", \"censorship\", \"ceremony\", \"chain\", \"channel\", \"chaos\", \"city\", \"city\", \"city\", \"closer\", \"collective\", \"communication\", \"communication\", \"company\", \"company\", \"computational\", \"conference\", \"connect\", \"control\", \"controller\", \"controller\", \"corporate\", \"cortex\", \"could\", \"countersurveillance\", \"countersurveillance\", \"crappy\", \"create\", \"daten\", \"datenbanken\", \"deduplication\", \"deduplication\", \"define\", \"define\", \"demokratie\", \"description\", \"developing\", \"dieselgate\", \"different\", \"digital\", \"digital\", \"dissect\", \"dissect\", \"driverless\", \"drone\", \"drone\", \"ecosystem\", \"edible\", \"eigenbau\", \"einblick\", \"election\", \"enforcement\", \"enforcement\", \"engineering\", \"entropy\", \"everyone\", \"everyone\", \"experience\", \"exploration\", \"exploration\", \"extremely\", \"falschmeldungen\", \"fight\", \"fight\", \"function\", \"generalschl\\u00fcssel\", \"germany\", \"germany\", \"gewissheiten\", \"global\", \"global\", \"global\", \"group\", \"group\", \"hardware\", \"hochsecuritys\", \"human\", \"implement\", \"include\", \"include\", \"information\", \"information\", \"infrastructure\", \"infrastructure\", \"insert\", \"instruction\", \"intentionally\", \"inter)national\", \"interactive\", \"internet\", \"internet\", \"internet\", \"internet\", \"jahresr\\u00fcckblick\", \"jahresr\\u00fcckblick\", \"kampf\", \"kampf\", \"kernel\", \"kleine\", \"kleine\", \"knowledge\", \"knowledge\", \"knowledge\", \"konstruiert\", \"kritischer\", \"k\\u00f6nnen\", \"k\\u00f6nnen\", \"landwirtschaft\", \"language\", \"language\", \"laptop\", \"laypeople\", \"leak\", \"learn\", \"learn\", \"leisten\", \"lernen\", \"lernen\", \"lesson\", \"lightning\", \"linguistics\", \"logic\", \"l\\u00f6schungsanspruch\", \"machine\", \"machine\", \"machine\", \"macht\", \"making\", \"making\", \"malware\", \"mapping\", \"marke\", \"memory\", \"memory\", \"method\", \"method\", \"mix\", \"mobile\", \"mobile\", \"modern\", \"modern\", \"modification\", \"money\", \"neighbourhood\", \"net.art\", \"network\", \"network\", \"network\", \"netzpolitik\", \"netzpolitik\", \"oauth\", \"official\", \"online\", \"online\", \"overview\", \"owards\", \"pegasus\", \"pegasus\", \"physically\", \"platform\", \"platform\", \"political\", \"politics\", \"politics\", \"politische\", \"populisten\", \"possibly\", \"power\", \"predict\", \"presidential\", \"printing\", \"privacy\", \"privacy\", \"privacy\", \"privacy\", \"prngs\", \"prngs\", \"programmable\", \"protection\", \"protection\", \"radio\", \"reaction\", \"reality\", \"reality\", \"rechte\", \"rechte\", \"rechtsdurchsetzung\", \"rechtsdurchsetzung\", \"recording\", \"recount\", \"reflexion\", \"refugee\", \"reimagining\", \"reject\", \"reject\", \"retail\", \"retail\", \"reverse\", \"review\", \"review\", \"robot\", \"running\", \"saving\", \"scanning\", \"schon\", \"schule\", \"science\", \"science\", \"search\", \"searchwing\", \"security\", \"security\", \"security\", \"security\", \"security\", \"securityation\", \"sensitive\", \"sensor\", \"sensory\", \"server\", \"server\", \"shape\", \"sharing\", \"skill\", \"smart\", \"smart\", \"smtbmc\", \"sniff\", \"software\", \"software\", \"sound\", \"source\", \"sozialen\", \"space\", \"space\", \"speed\", \"spiegel\", \"spiegel\", \"sprache\", \"sprachlich\", \"sslv2\", \"stack\", \"state\", \"state\", \"state\", \"stealth\", \"sub-$1\", \"succinct\", \"surveillance\", \"surveillance\", \"surveillance\", \"surveillance\", \"systemic\", \"talking\", \"talks\", \"technikbegeisterung\", \"technique\", \"technology\", \"technology\", \"technology\", \"technology\", \"things\", \"things\", \"tracking\", \"tracking\", \"transfer\", \"transfer\", \"ultrasound\", \"understanding\", \"uninvited\", \"unsere\", \"unwanted\", \"update\", \"verification\", \"virtual\", \"want\", \"want\", \"waren\", \"welcome\", \"werden\", \"wide\", \"wireless\", \"works\", \"works\", \"world\", \"world\", \"wpa2/802.11\", \"write\", \"wrong\", \"zerst\\u00f6rte\", \"zukunft\", \"zwischen\"]}, \"R\": 30, \"lambda.step\": 0.01, \"plot.opts\": {\"xlab\": \"PC1\", \"ylab\": \"PC2\"}, \"topic.order\": [1, 2, 3, 4, 5]};\n",
       "if(typeof(window.LDAvis) !== \"undefined\"){\n",
       "   !function(LDAvis){\n",
       "       new LDAvis(\"#\" + \"ldavis_el24063229565364998005828725142\", ldavis_el24063229565364998005828725142_data);\n",
       "   }(LDAvis);\n",
       "}else{\n",
       "  require.config({paths: {d3: \"https://cdnjs.cloudflare.com/ajax/libs/d3/3.5.5/d3.min\"}});\n",
       "  require([\"d3\"], function(d3){\n",
       "    window.d3 = d3;\n",
       "    $.getScript(\"https://cdn.rawgit.com/bmabey/pyLDAvis/files/ldavis.v1.0.0.js\", function(){\n",
       "       new LDAvis(\"#\" + \"ldavis_el24063229565364998005828725142\", ldavis_el24063229565364998005828725142_data);\n",
       "    });\n",
       "  });\n",
       "}\n",
       "</script>"
      ],
      "text/plain": [
       "<IPython.core.display.HTML object>"
      ]
     },
     "execution_count": 18,
     "metadata": {},
     "output_type": "execute_result"
    }
   ],
   "source": [
    "#display and plot title topics\n",
    "#Saliency: how important regardless of the term frequency (i.e. some terms are frequent but not informative)\n",
    "#Paper and more details: http://vis.stanford.edu/files/2012-Termite-AVI.pdf\n",
    "#Relevance: how relevant is a term to a certain topic\n",
    "#Paper and more details: https://nlp.stanford.edu/events/illvi2014/papers/sievert-illvi2014.pdf\n",
    "#The size of the bubble measures the importance of the topics, relative to the data.\n",
    "\n",
    "dictionary = gensim.corpora.Dictionary.load('models/title_dictionary.gensim')\n",
    "corpus = pickle.load(open('models/title_corpus.pkl', 'rb'))\n",
    "lda = gensim.models.ldamodel.LdaModel.load('models/title_model.gensim')\n",
    "import pyLDAvis.gensim\n",
    "lda_display = pyLDAvis.gensim.prepare(lda, title_corpus, title_dictionary, sort_topics=False)\n",
    "pyLDAvis.display(lda_display, template_type='notebook')"
   ]
  },
  {
   "cell_type": "code",
   "execution_count": null,
   "metadata": {},
   "outputs": [],
   "source": []
  }
 ],
 "metadata": {
  "kernelspec": {
   "display_name": "Python 3",
   "language": "python",
   "name": "python3"
  },
  "language_info": {
   "codemirror_mode": {
    "name": "ipython",
    "version": 3
   },
   "file_extension": ".py",
   "mimetype": "text/x-python",
   "name": "python",
   "nbconvert_exporter": "python",
   "pygments_lexer": "ipython3",
   "version": "3.6.3"
  }
 },
 "nbformat": 4,
 "nbformat_minor": 2
}
