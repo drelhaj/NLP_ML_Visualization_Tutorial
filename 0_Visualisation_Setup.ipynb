{
 "cells": [
  {
   "cell_type": "code",
   "execution_count": null,
   "metadata": {},
   "outputs": [],
   "source": [
    "#I tried my best to list all the libraries I used (aplogies if I missed anything)\n",
    "!pip install pandas==0.22.0\n",
    "!pip install numpy==1.17.3#numpy versions > 1.20.x may cause an issue with LDA display\n",
    "!pip install matplotlib==3.1.3\n",
    "!pip install seaborn==0.9.0\n",
    "!pip install nltk==3.4.5\n",
    "!pip install gensim==3.4.0\n",
    "!pip install jsonpickle==1.0\n",
    "!pip install pickleshare==0.7.4\n",
    "!pip install helpers==0.2.0\n",
    "!pip install sklearn==0.0\n",
    "!pip install scipy==1.0.0\n",
    "!pip install wordcloud==1.5.0\n",
    "!pip install spacy==2.2.3\n",
    "!pip install spacy-langdetect==0.1.2\n",
    "!pip install spacy-lookups-data==0.2.0\n",
    "!pip install pyLDAvis==3.2.2"
   ]
  },
  {
   "cell_type": "code",
   "execution_count": null,
   "metadata": {},
   "outputs": [],
   "source": []
  }
 ],
 "metadata": {
  "kernelspec": {
   "display_name": "Python 3",
   "language": "python",
   "name": "python3"
  },
  "language_info": {
   "codemirror_mode": {
    "name": "ipython",
    "version": 3
   },
   "file_extension": ".py",
   "mimetype": "text/x-python",
   "name": "python",
   "nbconvert_exporter": "python",
   "pygments_lexer": "ipython3",
   "version": "3.7.4"
  }
 },
 "nbformat": 4,
 "nbformat_minor": 2
}
