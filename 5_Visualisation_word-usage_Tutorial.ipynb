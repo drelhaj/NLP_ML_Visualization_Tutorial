{
 "cells": [
  {
   "cell_type": "code",
   "execution_count": 1,
   "metadata": {},
   "outputs": [],
   "source": [
    "#spacy tokenizer\n",
    "\n",
    "import spacy\n",
    "spacy.load('en_core_web_sm')\n",
    "from spacy.lang.en import English\n",
    "parser = English()\n",
    "def tokenize(text):\n",
    "    lda_tokens = []\n",
    "    tokens = parser(text)\n",
    "    for token in tokens:\n",
    "        if token.orth_.isspace():\n",
    "            continue\n",
    "        elif token.like_url:\n",
    "            lda_tokens.append('URL')\n",
    "        elif token.orth_.startswith('@'):\n",
    "            lda_tokens.append('SCREEN_NAME')\n",
    "        else:\n",
    "            lda_tokens.append(token.lower_)\n",
    "    return lda_tokens"
   ]
  },
  {
   "cell_type": "code",
   "execution_count": 2,
   "metadata": {},
   "outputs": [
    {
     "name": "stdout",
     "output_type": "stream",
     "text": [
      "Number of titles: 2,973\n",
      "\n"
     ]
    },
    {
     "data": {
      "text/html": [
       "<div>\n",
       "<style scoped>\n",
       "    .dataframe tbody tr th:only-of-type {\n",
       "        vertical-align: middle;\n",
       "    }\n",
       "\n",
       "    .dataframe tbody tr th {\n",
       "        vertical-align: top;\n",
       "    }\n",
       "\n",
       "    .dataframe thead th {\n",
       "        text-align: right;\n",
       "    }\n",
       "</style>\n",
       "<table border=\"1\" class=\"dataframe\">\n",
       "  <thead>\n",
       "    <tr style=\"text-align: right;\">\n",
       "      <th></th>\n",
       "      <th>year</th>\n",
       "      <th>congress</th>\n",
       "      <th>title</th>\n",
       "      <th>abstract</th>\n",
       "      <th>link</th>\n",
       "      <th>tags</th>\n",
       "    </tr>\n",
       "  </thead>\n",
       "  <tbody>\n",
       "    <tr>\n",
       "      <th>1007</th>\n",
       "      <td>2005</td>\n",
       "      <td>22C3</td>\n",
       "      <td>Have you hugged your Mac today? - Ein audiovis...</td>\n",
       "      <td>Live-Performance der HĂśrspielwerkstatt der Hu...</td>\n",
       "      <td>http://events.ccc.de/congress/2005/fahrplan/ev...</td>\n",
       "      <td>NaN</td>\n",
       "    </tr>\n",
       "    <tr>\n",
       "      <th>1563</th>\n",
       "      <td>2010</td>\n",
       "      <td>27C3</td>\n",
       "      <td>Logikschaltungen ohne Elektronik: logische Sch...</td>\n",
       "      <td>Ein kurzer Anfängerz über mechanische und strö...</td>\n",
       "      <td>https://events.ccc.de/congress/2010/Fahrplan/s...</td>\n",
       "      <td>NaN</td>\n",
       "    </tr>\n",
       "    <tr>\n",
       "      <th>1463</th>\n",
       "      <td>2009</td>\n",
       "      <td>26C3</td>\n",
       "      <td>Privacy &amp; Stylometry: Practical attackz Agains...</td>\n",
       "      <td>Authorship recognition based on linguistics (k...</td>\n",
       "      <td>https://events.ccc.de/congress/2009/Fahrplan/s...</td>\n",
       "      <td>NaN</td>\n",
       "    </tr>\n",
       "  </tbody>\n",
       "</table>\n",
       "</div>"
      ],
      "text/plain": [
       "      year congress                                              title  \\\n",
       "1007  2005     22C3  Have you hugged your Mac today? - Ein audiovis...   \n",
       "1563  2010     27C3  Logikschaltungen ohne Elektronik: logische Sch...   \n",
       "1463  2009     26C3  Privacy & Stylometry: Practical attackz Agains...   \n",
       "\n",
       "                                               abstract  \\\n",
       "1007  Live-Performance der HĂśrspielwerkstatt der Hu...   \n",
       "1563  Ein kurzer Anfängerz über mechanische und strö...   \n",
       "1463  Authorship recognition based on linguistics (k...   \n",
       "\n",
       "                                                   link tags  \n",
       "1007  http://events.ccc.de/congress/2005/fahrplan/ev...  NaN  \n",
       "1563  https://events.ccc.de/congress/2010/Fahrplan/s...  NaN  \n",
       "1463  https://events.ccc.de/congress/2009/Fahrplan/s...  NaN  "
      ]
     },
     "execution_count": 2,
     "metadata": {},
     "output_type": "execute_result"
    }
   ],
   "source": [
    "import pandas as pd\n",
    "\n",
    "combinedFile = \"csvs/combined_csv.csv\"\n",
    "\n",
    "df = pd.read_csv(combinedFile, delimiter=',', header=0)\n",
    "print('Number of titles: {:,}\\n'.format(df.shape[0]))\n",
    "df.sample(3)"
   ]
  },
  {
   "cell_type": "code",
   "execution_count": 3,
   "metadata": {},
   "outputs": [],
   "source": [
    "#reading titles \n",
    "\n",
    "title_dict = {}\n",
    "\n",
    "# classify that the article has recommends\n",
    "for i in range(len(df)):\n",
    "    if df[\"title\"][i] in title_dict.keys():\n",
    "        title_dict[df[\"title\"][i]] += 1\n",
    "    else:\n",
    "        title_dict.setdefault(df[\"title\"][i], 1)\n",
    "\n",
    "title_dict = [x for x in title_dict if str(x) != 'nan']"
   ]
  },
  {
   "cell_type": "code",
   "execution_count": 4,
   "metadata": {},
   "outputs": [],
   "source": [
    "#titles text\n",
    "import re\n",
    "title_text = \" \".join(x for x in title_dict)\n",
    "\n",
    "title_text = re.sub('[^a-zA-Z -\\']+', '', title_text)\n",
    "title_text = title_text.replace('>', ' ').replace('<', ' ')\n",
    "title_text = re.sub(' +', ' ', title_text)\n",
    "title_text = title_text.replace('hackz', 'hack').replace('securityz', 'security').replace('attackz','attacks').replace('Anfngerz','')"
   ]
  },
  {
   "cell_type": "code",
   "execution_count": 5,
   "metadata": {},
   "outputs": [
    {
     "name": "stderr",
     "output_type": "stream",
     "text": [
      "[nltk_data] Downloading package stopwords to\n",
      "[nltk_data]     C:\\Users\\elhaj\\AppData\\Roaming\\nltk_data...\n",
      "[nltk_data]   Package stopwords is already up-to-date!\n"
     ]
    }
   ],
   "source": [
    "import nltk\n",
    "nltk.download('stopwords')\n",
    "en_stop = set(nltk.corpus.stopwords.words('english'))\n",
    "de_stop = set(nltk.corpus.stopwords.words('german'))\n",
    "\n",
    "def check_stop_lists(token):\n",
    "    if token in en_stop or token in de_stop:\n",
    "        return True\n",
    "    else:\n",
    "        return False\n",
    "    \n",
    "def check_length(token):\n",
    "    if len(token) > 4:\n",
    "        return True\n",
    "    else:\n",
    "        return False"
   ]
  },
  {
   "cell_type": "code",
   "execution_count": 6,
   "metadata": {},
   "outputs": [
    {
     "name": "stdout",
     "output_type": "stream",
     "text": [
      "[('security', 152), ('Internet', 85), ('attacks', 54)]\n",
      "security\n",
      "Internet\n",
      "attacks\n"
     ]
    }
   ],
   "source": [
    "#title most frequent text\n",
    "import spacy\n",
    "from collections import Counter\n",
    "\n",
    "nlp = spacy.load(\"en_core_web_sm\")\n",
    "nlp.max_length = 200000\n",
    "doc = nlp(title_text)\n",
    "\n",
    "#remove stopwords and punctuations\n",
    "words = [token.text for token in doc if check_stop_lists(token.text.lower()) == False and check_length(token.text) == True and token.is_punct != True]\n",
    "#nouns = [token.text for token in doc if token.is_stop != True and token.is_punct != True and token.pos_ == \"NOUN\"]\n",
    "#verbs = [token.text for token in doc if token.is_stop != True and token.is_punct != True and token.pos_ == \"VERB\"]\n",
    "\n",
    "\n",
    "word_freq = Counter(words)\n",
    "common_words = word_freq.most_common(3)\n",
    "print(common_words)\n",
    "\n",
    "most_common_words=[]\n",
    "for key, value in common_words:\n",
    "    print(key)\n",
    "    most_common_words.append(key)\n",
    "\n",
    "#for w in most_common_words:\n",
    "#    print(w)\n",
    "    \n",
    "# five most common noun tokens\n",
    "#noun_freq = Counter(nouns)\n",
    "#common_nouns = noun_freq.most_common(20)\n",
    "#print (common_nouns)\n",
    "\n",
    "# five most common verbs tokens\n",
    "#verb_freq = Counter(verbs)\n",
    "#common_verbs = verb_freq.most_common(20)\n",
    "#print (common_verbs)"
   ]
  },
  {
   "cell_type": "code",
   "execution_count": 7,
   "metadata": {},
   "outputs": [
    {
     "name": "stdout",
     "output_type": "stream",
     "text": [
      "<class 'numpy.ndarray'>\n"
     ]
    }
   ],
   "source": [
    "years = df.year.unique()\n",
    "print(type(years))\n",
    "yearsList = []\n",
    "for y in years:\n",
    "    yearsList.append(str(y).replace('.0',''))\n",
    "    \n",
    "#for x in yearsList:\n",
    "#    print(x)"
   ]
  },
  {
   "cell_type": "code",
   "execution_count": 8,
   "metadata": {},
   "outputs": [],
   "source": [
    "def getFrequencies(word,yearsList):\n",
    "    yearsList.sort()\n",
    "    frequencies=[]\n",
    "    wordFreq = 0\n",
    "\n",
    "    for year in yearsList:\n",
    "        urlCSV = 'csvs/'+year+'.csv'\n",
    "        #print(year)\n",
    "        # load the data with pd.read_csv\n",
    "        data = pd.read_csv(urlCSV, delimiter='|',error_bad_lines=False)\n",
    "        #print(year, '  Number of titles: {:,}\\n'.format(data.shape[0]))\n",
    "        alltxt = data.title.str.lower()\n",
    "        \n",
    "        #data['abstract'].value_counts()\n",
    "\n",
    "        freq = alltxt.str.split(expand=True).stack().value_counts()\n",
    "\n",
    "        for name, val in freq.iteritems():\n",
    "            if name.lower()==word.lower():\n",
    "                wordFreq = val\n",
    "        #print(word, wordFreq)\n",
    "        frequencies.append(wordFreq)\n",
    "    \n",
    "    return frequencies\n",
    "\n",
    "#for y in yearsList:\n",
    "#    print(y)\n",
    "#for x in frequencies:\n",
    "#    print(x)\n",
    "\n",
    "        \n"
   ]
  },
  {
   "cell_type": "code",
   "execution_count": 9,
   "metadata": {},
   "outputs": [],
   "source": [
    "import matplotlib.pyplot as plt\n",
    "\n",
    "def plotFrequencies(word,yearsList,frequencies):\n",
    "    yearsList.sort()\n",
    "    title_word = word+' Usage Over Years'\n",
    "    fig = plt.figure()\n",
    "    fig.suptitle(title_word, fontsize=10)\n",
    "    plt.xlabel('Years', fontsize=8)\n",
    "    plt.ylabel('Frequency', fontsize=8)\n",
    "    plt.rcParams[\"figure.figsize\"] = (10,2)\n",
    "\n",
    "    plt.plot(yearsList, frequencies)\n",
    "    # You can specify a rotation for the tick labels in degrees or with keywords.\n",
    "    plt.xticks(yearsList, yearsList, rotation='vertical')\n",
    "\n",
    "    # Pad margins so that markers don't get clipped by the axes\n",
    "    plt.margins(0,0.05)\n",
    "    # Tweak spacing to prevent clipping of tick-labels\n",
    "    plt.subplots_adjust(bottom=0.15)\n",
    "    plt.show()\n",
    "\n"
   ]
  },
  {
   "cell_type": "code",
   "execution_count": 11,
   "metadata": {},
   "outputs": [
    {
     "name": "stdout",
     "output_type": "stream",
     "text": [
      "security\n"
     ]
    },
    {
     "data": {
      "image/png": "[encoded data removed]",
      "text/plain": [
       "<Figure size 720x144 with 1 Axes>"
      ]
     },
     "metadata": {},
     "output_type": "display_data"
    },
    {
     "name": "stdout",
     "output_type": "stream",
     "text": [
      "Internet\n"
     ]
    },
    {
     "data": {
      "image/png": "[encoded data removed]",
      "text/plain": [
       "<Figure size 720x144 with 1 Axes>"
      ]
     },
     "metadata": {},
     "output_type": "display_data"
    },
    {
     "name": "stdout",
     "output_type": "stream",
     "text": [
      "attacks\n"
     ]
    },
    {
     "data": {
      "image/png": "[encoded data removed]",
      "text/plain": [
       "<Figure size 720x144 with 1 Axes>"
      ]
     },
     "metadata": {},
     "output_type": "display_data"
    }
   ],
   "source": [
    "for key, value in common_words:\n",
    "    print(key)\n",
    "    plotFrequencies(key,yearsList,getFrequencies(key,yearsList))"
   ]
  },
  {
   "cell_type": "code",
   "execution_count": null,
   "metadata": {},
   "outputs": [],
   "source": []
  }
 ],
 "metadata": {
  "kernelspec": {
   "display_name": "Python 3",
   "language": "python",
   "name": "python3"
  },
  "language_info": {
   "codemirror_mode": {
    "name": "ipython",
    "version": 3
   },
   "file_extension": ".py",
   "mimetype": "text/x-python",
   "name": "python",
   "nbconvert_exporter": "python",
   "pygments_lexer": "ipython3",
   "version": "3.6.3"
  }
 },
 "nbformat": 4,
 "nbformat_minor": 4
}
